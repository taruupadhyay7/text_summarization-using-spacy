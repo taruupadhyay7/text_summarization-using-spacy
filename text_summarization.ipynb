{
  "nbformat": 4,
  "nbformat_minor": 0,
  "metadata": {
    "colab": {
      "provenance": []
    },
    "kernelspec": {
      "name": "python3",
      "display_name": "Python 3"
    },
    "language_info": {
      "name": "python"
    }
  },
  "cells": [
    {
      "cell_type": "code",
      "execution_count": 1,
      "metadata": {
        "colab": {
          "base_uri": "https://localhost:8080/"
        },
        "id": "u4M-BHt99J4G",
        "outputId": "cf94cb7f-d565-4c8f-e90d-ed31bc0c7a88"
      },
      "outputs": [
        {
          "output_type": "stream",
          "name": "stdout",
          "text": [
            "Topic of document given :-\n",
            "agriculture india farmers \n",
            "\n",
            "Summary:\n",
            "Agriculture, along with fisheries and forestry, contributes significantly to India’s Gross Domestic Product (GDP).\n",
            "While the sector’s share in GDP has declined due to rapid growth in industry and services, agriculture continues to be the backbone of rural India.\n",
            "The Green Revolution in the 1960s marked a major turning point, bringing high-yielding varieties of wheat and rice, improved irrigation systems, and increased use of fertilizers and pesticides.\n",
            "Recent reforms also aimed at liberalizing agricultural marketing by allowing farmers to sell produce outside traditional mandis.\n",
            "Precision farming, which involves using sensors, drones, and satellite imagery, helps farmers apply the right inputs at the right time.\n",
            "E-commerce platforms are helping farmers sell their produce directly to consumers, bypassing middlemen and increasing their income.\n",
            "Organic agriculture, zero-budget natural farming, and integrated pest management are being encouraged to reduce dependency on chemical inputs.\n",
            "Agriculture also plays a key role in India's export economy.\n",
            "Despite its progress, agriculture in India must undergo systemic reforms to be future-ready.\n",
            "By blending traditional knowledge with modern innovation, and by ensuring farmers have access to resources, technology, and fair markets, the sector can continue to feed the nation and power rural prosperity.\n"
          ]
        }
      ],
      "source": [
        "import spacy\n",
        "from spacy.lang.en.stop_words import STOP_WORDS\n",
        "from string import punctuation\n",
        "\n",
        "# Extra stop words\n",
        "extra_words = list(STOP_WORDS) + list(punctuation) + [\"\\n\"]\n",
        "\n",
        "# Load the English language model\n",
        "nlp = spacy.load(\"en_core_web_sm\")\n",
        "\n",
        "# Read the text from file\n",
        "with open(\"agriculture.txt\", \"r\", encoding=\"utf-8\") as f:\n",
        "    text = f.read()\n",
        "\n",
        "# Process the text\n",
        "docx = nlp(text)\n",
        "\n",
        "# Frequency calculation\n",
        "all_words = [word.text.lower() for word in docx if word.text.lower() not in extra_words and word.is_alpha]\n",
        "freq_word = {}\n",
        "for word in all_words:\n",
        "    freq_word[word] = freq_word.get(word, 0) + 1\n",
        "\n",
        "# Get top 3 frequencies\n",
        "val = sorted(freq_word.values())\n",
        "max_freq = val[-3:]\n",
        "\n",
        "print(\"Topic of document given :-\")\n",
        "for word, freq in freq_word.items():\n",
        "    if freq in max_freq:\n",
        "        print(word, end=\" \")\n",
        "\n",
        "# Normalize frequencies\n",
        "for word in freq_word:\n",
        "    freq_word[word] = freq_word[word] / max_freq[-1]\n",
        "\n",
        "# Sentence strength calculation\n",
        "sent_strength = {}\n",
        "for sent in docx.sents:\n",
        "    for word in sent:\n",
        "        word_lower = word.text.lower()\n",
        "        if word_lower in freq_word:\n",
        "            if sent in sent_strength:\n",
        "                sent_strength[sent] += freq_word[word_lower]\n",
        "            else:\n",
        "                sent_strength[sent] = freq_word[word_lower]\n",
        "\n",
        "# Get top 30% sentences\n",
        "top_sentences = sorted(sent_strength.values(), reverse=True)\n",
        "top_30_percent = int(0.3 * len(top_sentences))\n",
        "threshold = top_sentences[top_30_percent - 1] if top_30_percent else 0\n",
        "\n",
        "summary = [sent for sent, strength in sent_strength.items() if strength >= threshold]\n",
        "\n",
        "# Print summary\n",
        "print(\"\\n\\nSummary:\")\n",
        "for sent in summary:\n",
        "    print(sent.text.strip())\n"
      ]
    }
  ]
}